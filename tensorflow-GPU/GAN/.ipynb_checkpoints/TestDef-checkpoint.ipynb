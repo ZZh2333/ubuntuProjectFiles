{
 "cells": [
  {
   "cell_type": "code",
   "execution_count": 10,
   "id": "df3f09e8-c633-4453-a501-f60889a3716f",
   "metadata": {},
   "outputs": [
    {
     "data": {
      "text/plain": [
       "array([[ 0.16361011, -1.15375985, -1.0309915 , ...,  1.13703445,\n",
       "         0.52075218,  0.43924165],\n",
       "       [-0.64575249, -0.50425126, -0.38316539, ...,  0.73605346,\n",
       "         0.68328002,  0.57430105],\n",
       "       [-0.50525991, -1.39246025,  1.27519228, ..., -1.15366697,\n",
       "        -0.82989341,  0.19684703],\n",
       "       ...,\n",
       "       [-0.13070056,  0.21304261,  0.71953165, ...,  0.28502412,\n",
       "         0.24243319,  1.88741722],\n",
       "       [ 1.9969766 , -0.73537326,  1.12200518, ...,  0.0181497 ,\n",
       "        -1.49515076, -1.19670833],\n",
       "       [-0.50803657,  2.06151792, -0.78770661, ..., -0.25228742,\n",
       "        -0.72754649, -1.85166063]])"
      ]
     },
     "execution_count": 10,
     "metadata": {},
     "output_type": "execute_result"
    }
   ],
   "source": [
    "import numpy as np\n",
    "\n",
    "noise = np.random.normal(0,1,(20,100))\n",
    "noise"
   ]
  },
  {
   "cell_type": "code",
   "execution_count": 11,
   "id": "487ab1c5-99d2-4f1b-9f6b-0da24f138cf4",
   "metadata": {},
   "outputs": [
    {
     "data": {
      "text/plain": [
       "(20, 100)"
      ]
     },
     "execution_count": 11,
     "metadata": {},
     "output_type": "execute_result"
    }
   ],
   "source": [
    "noise.shape"
   ]
  },
  {
   "cell_type": "code",
   "execution_count": null,
   "id": "645f98eb-09da-4b49-adb3-6579a30bbc1e",
   "metadata": {},
   "outputs": [],
   "source": []
  }
 ],
 "metadata": {
  "kernelspec": {
   "display_name": "Python 3",
   "language": "python",
   "name": "python3"
  },
  "language_info": {
   "codemirror_mode": {
    "name": "ipython",
    "version": 3
   },
   "file_extension": ".py",
   "mimetype": "text/x-python",
   "name": "python",
   "nbconvert_exporter": "python",
   "pygments_lexer": "ipython3",
   "version": "3.6.13"
  }
 },
 "nbformat": 4,
 "nbformat_minor": 5
}
