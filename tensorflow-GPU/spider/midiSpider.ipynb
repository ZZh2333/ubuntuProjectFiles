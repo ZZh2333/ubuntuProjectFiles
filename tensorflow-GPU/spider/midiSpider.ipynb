{
 "cells": [
  {
   "cell_type": "code",
   "execution_count": 4,
   "id": "23b5e8ac-8996-4010-b503-7a54e814bc33",
   "metadata": {},
   "outputs": [],
   "source": [
    "import requests\n",
    "import re\n",
    "from bs4 import BeautifulSoup as bs"
   ]
  },
  {
   "cell_type": "code",
   "execution_count": 5,
   "id": "a61871fa-c1a8-4622-83b3-5ed87caa0270",
   "metadata": {},
   "outputs": [],
   "source": [
    "url = \"https://www.midiworld.com/search/1/?q=punk\""
   ]
  },
  {
   "cell_type": "code",
   "execution_count": 18,
   "id": "3da3e0c9-d4fe-4149-b7cf-b465764afb76",
   "metadata": {},
   "outputs": [
    {
     "data": {
      "text/plain": [
       "[<a href=\"https://www.midiworld.com/download/2034\" target=\"_blank\">download</a>,\n",
       " <a href=\"https://www.midiworld.com/download/2035\" target=\"_blank\">download</a>,\n",
       " <a href=\"https://www.midiworld.com/download/2036\" target=\"_blank\">download</a>,\n",
       " <a href=\"https://www.midiworld.com/download/2037\" target=\"_blank\">download</a>,\n",
       " <a href=\"https://www.midiworld.com/download/2038\" target=\"_blank\">download</a>,\n",
       " <a href=\"https://www.midiworld.com/download/2039\" target=\"_blank\">download</a>,\n",
       " <a href=\"https://www.midiworld.com/download/2040\" target=\"_blank\">download</a>,\n",
       " <a href=\"https://www.midiworld.com/download/2041\" target=\"_blank\">download</a>,\n",
       " <a href=\"https://www.midiworld.com/download/2042\" target=\"_blank\">download</a>,\n",
       " <a href=\"https://www.midiworld.com/download/2043\" target=\"_blank\">download</a>,\n",
       " <a href=\"https://www.midiworld.com/download/2044\" target=\"_blank\">download</a>,\n",
       " <a href=\"https://www.midiworld.com/download/2045\" target=\"_blank\">download</a>,\n",
       " <a href=\"https://www.midiworld.com/download/2046\" target=\"_blank\">download</a>,\n",
       " <a href=\"https://www.midiworld.com/download/2047\" target=\"_blank\">download</a>,\n",
       " <a href=\"https://www.midiworld.com/download/2048\" target=\"_blank\">download</a>,\n",
       " <a href=\"https://www.midiworld.com/download/2049\" target=\"_blank\">download</a>,\n",
       " <a href=\"https://www.midiworld.com/download/2050\" target=\"_blank\">download</a>,\n",
       " <a href=\"https://www.midiworld.com/download/2051\" target=\"_blank\">download</a>,\n",
       " <a href=\"https://www.midiworld.com/download/2052\" target=\"_blank\">download</a>,\n",
       " <a href=\"https://www.midiworld.com/download/2053\" target=\"_blank\">download</a>,\n",
       " <a href=\"https://www.midiworld.com/download/2054\" target=\"_blank\">download</a>,\n",
       " <a href=\"https://www.midiworld.com/download/2055\" target=\"_blank\">download</a>,\n",
       " <a href=\"https://www.midiworld.com/download/2056\" target=\"_blank\">download</a>,\n",
       " <a href=\"https://www.midiworld.com/download/2057\" target=\"_blank\">download</a>,\n",
       " <a href=\"https://www.midiworld.com/download/2058\" target=\"_blank\">download</a>,\n",
       " <a href=\"https://www.midiworld.com/download/2059\" target=\"_blank\">download</a>,\n",
       " <a href=\"https://www.midiworld.com/download/2060\" target=\"_blank\">download</a>,\n",
       " <a href=\"https://www.midiworld.com/download/2061\" target=\"_blank\">download</a>,\n",
       " <a href=\"https://www.midiworld.com/download/2062\" target=\"_blank\">download</a>,\n",
       " <a href=\"https://www.midiworld.com/download/2063\" target=\"_blank\">download</a>]"
      ]
     },
     "execution_count": 18,
     "metadata": {},
     "output_type": "execute_result"
    }
   ],
   "source": [
    "r = requests.get(url)\n",
    "rt = r.content\n",
    "rh = str(rt,\"utf-8\")\n",
    "soup = bs(rh,\"html.parser\")\n",
    "download = soup.find_all(\"a\",attrs={\"target\":\"_blank\"})\n",
    "download"
   ]
  },
  {
   "cell_type": "code",
   "execution_count": 27,
   "id": "86805a0e-b42a-43a1-9630-466382bd6000",
   "metadata": {},
   "outputs": [
    {
     "name": "stdout",
     "output_type": "stream",
     "text": [
      "https://www.midiworld.com/download/2034\n",
      "https://www.midiworld.com/download/2035\n",
      "https://www.midiworld.com/download/2036\n",
      "https://www.midiworld.com/download/2037\n",
      "https://www.midiworld.com/download/2038\n",
      "https://www.midiworld.com/download/2039\n",
      "https://www.midiworld.com/download/2040\n",
      "https://www.midiworld.com/download/2041\n",
      "https://www.midiworld.com/download/2042\n",
      "https://www.midiworld.com/download/2043\n",
      "https://www.midiworld.com/download/2044\n",
      "https://www.midiworld.com/download/2045\n",
      "https://www.midiworld.com/download/2046\n",
      "https://www.midiworld.com/download/2047\n",
      "https://www.midiworld.com/download/2048\n",
      "https://www.midiworld.com/download/2049\n",
      "https://www.midiworld.com/download/2050\n",
      "https://www.midiworld.com/download/2051\n",
      "https://www.midiworld.com/download/2052\n",
      "https://www.midiworld.com/download/2053\n",
      "https://www.midiworld.com/download/2054\n",
      "https://www.midiworld.com/download/2055\n",
      "https://www.midiworld.com/download/2056\n",
      "https://www.midiworld.com/download/2057\n",
      "https://www.midiworld.com/download/2058\n",
      "https://www.midiworld.com/download/2059\n",
      "https://www.midiworld.com/download/2060\n",
      "https://www.midiworld.com/download/2061\n",
      "https://www.midiworld.com/download/2062\n",
      "https://www.midiworld.com/download/2063\n"
     ]
    }
   ],
   "source": [
    "for i in download:\n",
    "    print(i['href'])"
   ]
  },
  {
   "cell_type": "code",
   "execution_count": null,
   "id": "45d10ac7-f367-4aa1-aaba-c43006e89524",
   "metadata": {},
   "outputs": [],
   "source": []
  }
 ],
 "metadata": {
  "kernelspec": {
   "display_name": "Python 3",
   "language": "python",
   "name": "python3"
  },
  "language_info": {
   "codemirror_mode": {
    "name": "ipython",
    "version": 3
   },
   "file_extension": ".py",
   "mimetype": "text/x-python",
   "name": "python",
   "nbconvert_exporter": "python",
   "pygments_lexer": "ipython3",
   "version": "3.6.13"
  }
 },
 "nbformat": 4,
 "nbformat_minor": 5
}
