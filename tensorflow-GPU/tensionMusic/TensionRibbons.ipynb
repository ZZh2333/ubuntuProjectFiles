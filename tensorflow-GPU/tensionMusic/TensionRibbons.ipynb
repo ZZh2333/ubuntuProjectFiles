{
 "cells": [
  {
   "cell_type": "markdown",
   "id": "cda313ff-4e31-474e-879c-33efea02b4d0",
   "metadata": {},
   "source": [
    "# 《Tension ribbons: Quantifying and risualising tonal tension》"
   ]
  },
  {
   "cell_type": "code",
   "execution_count": null,
   "id": "0b7ce809-5e6a-413e-8e60-0184b4ce8a15",
   "metadata": {},
   "outputs": [],
   "source": []
  }
 ],
 "metadata": {
  "kernelspec": {
   "display_name": "Python 3",
   "language": "python",
   "name": "python3"
  },
  "language_info": {
   "codemirror_mode": {
    "name": "ipython",
    "version": 3
   },
   "file_extension": ".py",
   "mimetype": "text/x-python",
   "name": "python",
   "nbconvert_exporter": "python",
   "pygments_lexer": "ipython3",
   "version": "3.6.13"
  }
 },
 "nbformat": 4,
 "nbformat_minor": 5
}
